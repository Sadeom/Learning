{
  "nbformat": 4,
  "nbformat_minor": 0,
  "metadata": {
    "colab": {
      "name": "Introdução a collections",
      "provenance": [],
      "authorship_tag": "ABX9TyNTFQIPIOgbBHN+FzqHv8Nk",
      "include_colab_link": true
    },
    "kernelspec": {
      "name": "python3",
      "display_name": "Python 3"
    }
  },
  "cells": [
    {
      "cell_type": "markdown",
      "metadata": {
        "id": "view-in-github",
        "colab_type": "text"
      },
      "source": [
        "<a href=\"https://colab.research.google.com/github/Sadeom/Learning/blob/master/Introdu%C3%A7%C3%A3o_a_collections.ipynb\" target=\"_parent\"><img src=\"https://colab.research.google.com/assets/colab-badge.svg\" alt=\"Open In Colab\"/></a>"
      ]
    },
    {
      "cell_type": "code",
      "metadata": {
        "colab": {
          "base_uri": "https://localhost:8080/"
        },
        "id": "GjObMtAJhfuL",
        "outputId": "73d77b5c-455d-428e-f639-d7e967d80a2d"
      },
      "source": [
        "idade1 = 39\r\n",
        "idade2 = 30\r\n",
        "idade3 = 27\r\n",
        "idade4 = 18\r\n",
        "\r\n",
        "print(idade1)\r\n",
        "print(idade2)\r\n",
        "print(idade3)\r\n",
        "print(idade4)"
      ],
      "execution_count": null,
      "outputs": [
        {
          "output_type": "stream",
          "text": [
            "39\n",
            "30\n",
            "27\n",
            "18\n"
          ],
          "name": "stdout"
        }
      ]
    },
    {
      "cell_type": "code",
      "metadata": {
        "colab": {
          "base_uri": "https://localhost:8080/"
        },
        "id": "6StMpJZGjhmJ",
        "outputId": "fec05cf9-9d3a-47c0-bb15-8330696ecadf"
      },
      "source": [
        "idades = [39, 30, 27, 18]\r\n",
        "type(idades)"
      ],
      "execution_count": null,
      "outputs": [
        {
          "output_type": "execute_result",
          "data": {
            "text/plain": [
              "list"
            ]
          },
          "metadata": {
            "tags": []
          },
          "execution_count": 3
        }
      ]
    },
    {
      "cell_type": "code",
      "metadata": {
        "colab": {
          "base_uri": "https://localhost:8080/"
        },
        "id": "9OlCDAFzj6h3",
        "outputId": "8f21fa63-2148-482b-bc57-e4a492e450a8"
      },
      "source": [
        "len(idades)"
      ],
      "execution_count": null,
      "outputs": [
        {
          "output_type": "execute_result",
          "data": {
            "text/plain": [
              "4"
            ]
          },
          "metadata": {
            "tags": []
          },
          "execution_count": 4
        }
      ]
    },
    {
      "cell_type": "code",
      "metadata": {
        "colab": {
          "base_uri": "https://localhost:8080/"
        },
        "id": "IQaEOvqgkAAT",
        "outputId": "453dcde6-b426-44e8-fc4a-41f2cbbc1096"
      },
      "source": [
        "idades[0]"
      ],
      "execution_count": null,
      "outputs": [
        {
          "output_type": "execute_result",
          "data": {
            "text/plain": [
              "39"
            ]
          },
          "metadata": {
            "tags": []
          },
          "execution_count": 5
        }
      ]
    },
    {
      "cell_type": "code",
      "metadata": {
        "colab": {
          "base_uri": "https://localhost:8080/"
        },
        "id": "eOxDI4rRkLLr",
        "outputId": "2789aea8-fc38-4c38-9f6c-f3a5003e9efc"
      },
      "source": [
        "idades"
      ],
      "execution_count": null,
      "outputs": [
        {
          "output_type": "execute_result",
          "data": {
            "text/plain": [
              "[39, 30, 27, 18]"
            ]
          },
          "metadata": {
            "tags": []
          },
          "execution_count": 6
        }
      ]
    },
    {
      "cell_type": "code",
      "metadata": {
        "colab": {
          "base_uri": "https://localhost:8080/"
        },
        "id": "Q7Q26ocBkOL_",
        "outputId": "d4041e42-7987-4397-cccd-7def24325d3e"
      },
      "source": [
        "print (idades[1])\r\n",
        "print(idades[2])\r\n",
        "print(idades[3])\r\n",
        "print(idades[0])"
      ],
      "execution_count": null,
      "outputs": [
        {
          "output_type": "stream",
          "text": [
            "30\n",
            "27\n",
            "18\n",
            "39\n"
          ],
          "name": "stdout"
        }
      ]
    },
    {
      "cell_type": "code",
      "metadata": {
        "colab": {
          "base_uri": "https://localhost:8080/",
          "height": 217
        },
        "id": "q86M05X61LJg",
        "outputId": "38aaaa69-c773-446f-8197-bf9a54738fa0"
      },
      "source": [
        "idades = 29\r\n",
        "idades.append(28)\r\n",
        "idades.append(27)\r\n",
        "idades.appende(26)"
      ],
      "execution_count": null,
      "outputs": [
        {
          "output_type": "error",
          "ename": "AttributeError",
          "evalue": "ignored",
          "traceback": [
            "\u001b[0;31m---------------------------------------------------------------------------\u001b[0m",
            "\u001b[0;31mAttributeError\u001b[0m                            Traceback (most recent call last)",
            "\u001b[0;32m<ipython-input-25-5af483809917>\u001b[0m in \u001b[0;36m<module>\u001b[0;34m()\u001b[0m\n\u001b[1;32m      1\u001b[0m \u001b[0midades\u001b[0m \u001b[0;34m=\u001b[0m \u001b[0;36m29\u001b[0m\u001b[0;34m\u001b[0m\u001b[0;34m\u001b[0m\u001b[0m\n\u001b[0;32m----> 2\u001b[0;31m \u001b[0midades\u001b[0m\u001b[0;34m.\u001b[0m\u001b[0mappend\u001b[0m\u001b[0;34m(\u001b[0m\u001b[0;36m28\u001b[0m\u001b[0;34m)\u001b[0m\u001b[0;34m\u001b[0m\u001b[0;34m\u001b[0m\u001b[0m\n\u001b[0m\u001b[1;32m      3\u001b[0m \u001b[0midades\u001b[0m\u001b[0;34m.\u001b[0m\u001b[0mappend\u001b[0m\u001b[0;34m(\u001b[0m\u001b[0;36m27\u001b[0m\u001b[0;34m)\u001b[0m\u001b[0;34m\u001b[0m\u001b[0;34m\u001b[0m\u001b[0m\n\u001b[1;32m      4\u001b[0m \u001b[0midades\u001b[0m\u001b[0;34m.\u001b[0m\u001b[0mappende\u001b[0m\u001b[0;34m(\u001b[0m\u001b[0;36m26\u001b[0m\u001b[0;34m)\u001b[0m\u001b[0;34m\u001b[0m\u001b[0;34m\u001b[0m\u001b[0m\n",
            "\u001b[0;31mAttributeError\u001b[0m: 'int' object has no attribute 'append'"
          ]
        }
      ]
    },
    {
      "cell_type": "code",
      "metadata": {
        "id": "TloUR-bq1qyN"
      },
      "source": [
        " idades = [39]"
      ],
      "execution_count": null,
      "outputs": []
    },
    {
      "cell_type": "code",
      "metadata": {
        "colab": {
          "base_uri": "https://localhost:8080/"
        },
        "id": "SAsVOruu13_5",
        "outputId": "f9a79ede-8075-4795-88f2-517e7e4688a9"
      },
      "source": [
        "idades"
      ],
      "execution_count": null,
      "outputs": [
        {
          "output_type": "execute_result",
          "data": {
            "text/plain": [
              "[39]"
            ]
          },
          "metadata": {
            "tags": []
          },
          "execution_count": 27
        }
      ]
    },
    {
      "cell_type": "code",
      "metadata": {
        "id": "iupxwMq41757"
      },
      "source": [
        "idades.append(38)"
      ],
      "execution_count": null,
      "outputs": []
    },
    {
      "cell_type": "code",
      "metadata": {
        "id": "fwg5MnFC2Bn9"
      },
      "source": [
        "idades.insert(0, 40)"
      ],
      "execution_count": null,
      "outputs": []
    },
    {
      "cell_type": "code",
      "metadata": {
        "colab": {
          "base_uri": "https://localhost:8080/"
        },
        "id": "cu7BXxkX2KVP",
        "outputId": "f85577a7-a178-4584-b8c0-9f4f084cfa78"
      },
      "source": [
        "idades"
      ],
      "execution_count": null,
      "outputs": [
        {
          "output_type": "execute_result",
          "data": {
            "text/plain": [
              "[40, 39, 38]"
            ]
          },
          "metadata": {
            "tags": []
          },
          "execution_count": 30
        }
      ]
    },
    {
      "cell_type": "code",
      "metadata": {
        "colab": {
          "base_uri": "https://localhost:8080/"
        },
        "id": "ctZFknMv2QAq",
        "outputId": "3e0f1343-675a-400f-e43d-bc6a99bf191e"
      },
      "source": [
        "if 40 in idades:\r\n",
        "  idades.remove(40)\r\n",
        "  print(idades)"
      ],
      "execution_count": null,
      "outputs": [
        {
          "output_type": "stream",
          "text": [
            "[39, 38]\n"
          ],
          "name": "stdout"
        }
      ]
    },
    {
      "cell_type": "code",
      "metadata": {
        "colab": {
          "base_uri": "https://localhost:8080/",
          "height": 234
        },
        "id": "qnzRkmAU26xy",
        "outputId": "a799bea7-909f-405d-f22d-7bf14fcbfa39"
      },
      "source": [
        "if 40 in idades:\r\n",
        "  print(idades)\r\n",
        "else:\r\n",
        "  idades.append(40)\r\n",
        "  print(idades)"
      ],
      "execution_count": null,
      "outputs": [
        {
          "output_type": "error",
          "ename": "NameError",
          "evalue": "ignored",
          "traceback": [
            "\u001b[0;31m---------------------------------------------------------------------------\u001b[0m",
            "\u001b[0;31mNameError\u001b[0m                                 Traceback (most recent call last)",
            "\u001b[0;32m<ipython-input-2-5adeff7439b5>\u001b[0m in \u001b[0;36m<module>\u001b[0;34m()\u001b[0m\n\u001b[0;32m----> 1\u001b[0;31m \u001b[0;32mif\u001b[0m \u001b[0;36m40\u001b[0m \u001b[0;32min\u001b[0m \u001b[0midades\u001b[0m\u001b[0;34m:\u001b[0m\u001b[0;34m\u001b[0m\u001b[0;34m\u001b[0m\u001b[0m\n\u001b[0m\u001b[1;32m      2\u001b[0m   \u001b[0mprint\u001b[0m\u001b[0;34m(\u001b[0m\u001b[0midades\u001b[0m\u001b[0;34m)\u001b[0m\u001b[0;34m\u001b[0m\u001b[0;34m\u001b[0m\u001b[0m\n\u001b[1;32m      3\u001b[0m \u001b[0;32melse\u001b[0m\u001b[0;34m:\u001b[0m\u001b[0;34m\u001b[0m\u001b[0;34m\u001b[0m\u001b[0m\n\u001b[1;32m      4\u001b[0m   \u001b[0midades\u001b[0m\u001b[0;34m.\u001b[0m\u001b[0mappend\u001b[0m\u001b[0;34m(\u001b[0m\u001b[0;36m40\u001b[0m\u001b[0;34m)\u001b[0m\u001b[0;34m\u001b[0m\u001b[0;34m\u001b[0m\u001b[0m\n\u001b[1;32m      5\u001b[0m   \u001b[0mprint\u001b[0m\u001b[0;34m(\u001b[0m\u001b[0midades\u001b[0m\u001b[0;34m)\u001b[0m\u001b[0;34m\u001b[0m\u001b[0;34m\u001b[0m\u001b[0m\n",
            "\u001b[0;31mNameError\u001b[0m: name 'idades' is not defined"
          ]
        }
      ]
    },
    {
      "cell_type": "code",
      "metadata": {
        "colab": {
          "base_uri": "https://localhost:8080/"
        },
        "id": "1OMGxIMIwxJ6",
        "outputId": "7d06e8ae-a85f-408d-ae29-cf898df06ffe"
      },
      "source": [
        "idades = [20, 39, 18]\r\n",
        "idades.append([27,19])\r\n",
        "idades\r\n",
        "for elemento in idades:\r\n",
        "  print(\"Recebi o elemento\", elemento)"
      ],
      "execution_count": null,
      "outputs": [
        {
          "output_type": "stream",
          "text": [
            "Recebi o elemento 20\n",
            "Recebi o elemento 39\n",
            "Recebi o elemento 18\n",
            "Recebi o elemento [27, 19]\n"
          ],
          "name": "stdout"
        }
      ]
    },
    {
      "cell_type": "code",
      "metadata": {
        "colab": {
          "base_uri": "https://localhost:8080/"
        },
        "id": "eBLE_9sA0AjD",
        "outputId": "e565bd34-7ff6-4df7-ef9b-118e57c2e3f5"
      },
      "source": [
        "idades = [20, 39, 18]\r\n",
        "idades.extend([27, 19])\r\n",
        "idades"
      ],
      "execution_count": null,
      "outputs": [
        {
          "output_type": "execute_result",
          "data": {
            "text/plain": [
              "[20, 39, 18, 27, 19]"
            ]
          },
          "metadata": {
            "tags": []
          },
          "execution_count": 12
        }
      ]
    },
    {
      "cell_type": "code",
      "metadata": {
        "colab": {
          "base_uri": "https://localhost:8080/"
        },
        "id": "UOsktjVc0nah",
        "outputId": "9a926aab-a43c-4b56-fc0d-e7aa8320c0bc"
      },
      "source": [
        "for idade in idades:\r\n",
        "  print(idade + 1)"
      ],
      "execution_count": null,
      "outputs": [
        {
          "output_type": "stream",
          "text": [
            "21\n",
            "40\n",
            "19\n",
            "28\n",
            "20\n"
          ],
          "name": "stdout"
        }
      ]
    },
    {
      "cell_type": "code",
      "metadata": {
        "id": "9Dm2jzS-5VTE"
      },
      "source": [
        "idades_no_ano_que_vem = []\r\n",
        "for idade in idades:\r\n",
        "  idades_no_ano_que_vem.append(idade + 1)\r\n",
        "  idades_no_ano_que_vem"
      ],
      "execution_count": null,
      "outputs": []
    },
    {
      "cell_type": "code",
      "metadata": {
        "colab": {
          "base_uri": "https://localhost:8080/"
        },
        "id": "bs9hzH9j63Hy",
        "outputId": "dc5e63d9-9bc2-449e-9313-6d470d2090e2"
      },
      "source": [
        "idades_no_ano_que_vem"
      ],
      "execution_count": null,
      "outputs": [
        {
          "output_type": "execute_result",
          "data": {
            "text/plain": [
              "[21, 40, 19, 28, 20]"
            ]
          },
          "metadata": {
            "tags": []
          },
          "execution_count": 21
        }
      ]
    },
    {
      "cell_type": "code",
      "metadata": {
        "id": "CfmMUNui65_k",
        "colab": {
          "base_uri": "https://localhost:8080/",
          "height": 304
        },
        "outputId": "2f00293a-89dd-44a7-c566-bcced95804d9"
      },
      "source": [
        "idade1 = 39\r\n",
        "idade2 = 30\r\n",
        "idade3 = 27\r\n",
        "idade4 = 18\r\n",
        "\r\n",
        "print(idade1)\r\n",
        "print(idade2)\r\n",
        "print(idade3)\r\n",
        "print(idade4)\r\n",
        "\r\n",
        "list[39, 30, 27, 18]\r\n",
        "\r\n",
        "list"
      ],
      "execution_count": null,
      "outputs": [
        {
          "output_type": "stream",
          "text": [
            "39\n",
            "30\n",
            "27\n",
            "18\n"
          ],
          "name": "stdout"
        },
        {
          "output_type": "error",
          "ename": "TypeError",
          "evalue": "ignored",
          "traceback": [
            "\u001b[0;31m---------------------------------------------------------------------------\u001b[0m",
            "\u001b[0;31mTypeError\u001b[0m                                 Traceback (most recent call last)",
            "\u001b[0;32m<ipython-input-3-0c7afca50ecf>\u001b[0m in \u001b[0;36m<module>\u001b[0;34m()\u001b[0m\n\u001b[1;32m      9\u001b[0m \u001b[0mprint\u001b[0m\u001b[0;34m(\u001b[0m\u001b[0midade4\u001b[0m\u001b[0;34m)\u001b[0m\u001b[0;34m\u001b[0m\u001b[0;34m\u001b[0m\u001b[0m\n\u001b[1;32m     10\u001b[0m \u001b[0;34m\u001b[0m\u001b[0m\n\u001b[0;32m---> 11\u001b[0;31m \u001b[0mlist\u001b[0m\u001b[0;34m[\u001b[0m\u001b[0;36m39\u001b[0m\u001b[0;34m,\u001b[0m \u001b[0;36m30\u001b[0m\u001b[0;34m,\u001b[0m \u001b[0;36m27\u001b[0m\u001b[0;34m,\u001b[0m \u001b[0;36m18\u001b[0m\u001b[0;34m]\u001b[0m\u001b[0;34m\u001b[0m\u001b[0;34m\u001b[0m\u001b[0m\n\u001b[0m\u001b[1;32m     12\u001b[0m \u001b[0;34m\u001b[0m\u001b[0m\n\u001b[1;32m     13\u001b[0m \u001b[0mlist\u001b[0m\u001b[0;34m\u001b[0m\u001b[0;34m\u001b[0m\u001b[0m\n",
            "\u001b[0;31mTypeError\u001b[0m: 'type' object is not subscriptable"
          ]
        }
      ]
    },
    {
      "cell_type": "code",
      "metadata": {
        "id": "OMre7AsY65ZK"
      },
      "source": [
        "idades = [39,30,27,18]\r\n",
        "\r\n"
      ],
      "execution_count": null,
      "outputs": []
    },
    {
      "cell_type": "code",
      "metadata": {
        "colab": {
          "base_uri": "https://localhost:8080/"
        },
        "id": "wlST94lr7rCk",
        "outputId": "3bb00190-edcb-4426-88a5-866c23a09a60"
      },
      "source": [
        "type(idades)"
      ],
      "execution_count": null,
      "outputs": [
        {
          "output_type": "execute_result",
          "data": {
            "text/plain": [
              "list"
            ]
          },
          "metadata": {
            "tags": []
          },
          "execution_count": 7
        }
      ]
    },
    {
      "cell_type": "code",
      "metadata": {
        "colab": {
          "base_uri": "https://localhost:8080/"
        },
        "id": "PP7ICprR7xcG",
        "outputId": "06dea9db-fe91-499e-886d-e4c1f58ff487"
      },
      "source": [
        "len(idades)"
      ],
      "execution_count": null,
      "outputs": [
        {
          "output_type": "execute_result",
          "data": {
            "text/plain": [
              "4"
            ]
          },
          "metadata": {
            "tags": []
          },
          "execution_count": 8
        }
      ]
    },
    {
      "cell_type": "code",
      "metadata": {
        "colab": {
          "base_uri": "https://localhost:8080/",
          "height": 165
        },
        "id": "BMU-9-wD8M6k",
        "outputId": "bbb777b6-6e4f-44fd-e006-1da36315c57d"
      },
      "source": [
        "idades [                                                                                                                                                                                                                                                                  ]"
      ],
      "execution_count": null,
      "outputs": [
        {
          "output_type": "error",
          "ename": "SyntaxError",
          "evalue": "ignored",
          "traceback": [
            "\u001b[0;36m  File \u001b[0;32m\"<ipython-input-9-79ec8d55ca98>\"\u001b[0;36m, line \u001b[0;32m1\u001b[0m\n\u001b[0;31m    idades [                                                                                                                                                                                                                                                                  ]\u001b[0m\n\u001b[0m                                                                                                                                                                                                                                                                              ^\u001b[0m\n\u001b[0;31mSyntaxError\u001b[0m\u001b[0;31m:\u001b[0m invalid syntax\n"
          ]
        }
      ]
    },
    {
      "cell_type": "code",
      "metadata": {
        "colab": {
          "base_uri": "https://localhost:8080/",
          "height": 130
        },
        "id": "0JA1PUpo8xQO",
        "outputId": "736dc94e-8fd2-449d-9392-6f4b9bc57535"
      },
      "source": [
        "idades[01]"
      ],
      "execution_count": null,
      "outputs": [
        {
          "output_type": "error",
          "ename": "SyntaxError",
          "evalue": "ignored",
          "traceback": [
            "\u001b[0;36m  File \u001b[0;32m\"<ipython-input-10-f82492649a0b>\"\u001b[0;36m, line \u001b[0;32m1\u001b[0m\n\u001b[0;31m    idades[01]\u001b[0m\n\u001b[0m            ^\u001b[0m\n\u001b[0;31mSyntaxError\u001b[0m\u001b[0;31m:\u001b[0m invalid token\n"
          ]
        }
      ]
    },
    {
      "cell_type": "code",
      "metadata": {
        "colab": {
          "base_uri": "https://localhost:8080/"
        },
        "id": "5lujSJvk9K-H",
        "outputId": "cd33abc1-0d88-4514-8d94-fb17d2486aba"
      },
      "source": [
        "idades[0]"
      ],
      "execution_count": null,
      "outputs": [
        {
          "output_type": "execute_result",
          "data": {
            "text/plain": [
              "39"
            ]
          },
          "metadata": {
            "tags": []
          },
          "execution_count": 11
        }
      ]
    },
    {
      "cell_type": "code",
      "metadata": {
        "colab": {
          "base_uri": "https://localhost:8080/"
        },
        "id": "K0lcT-QP9Peu",
        "outputId": "133483ed-8361-49f4-af04-18083cd38b4d"
      },
      "source": [
        "print(idades[1])\r\n",
        "print(idades[2])\r\n",
        "print(idades[3])"
      ],
      "execution_count": null,
      "outputs": [
        {
          "output_type": "stream",
          "text": [
            "30\n",
            "27\n",
            "18\n"
          ],
          "name": "stdout"
        }
      ]
    },
    {
      "cell_type": "code",
      "metadata": {
        "id": "1UEjsnYe9pyh"
      },
      "source": [
        "idades.append(15)"
      ],
      "execution_count": null,
      "outputs": []
    },
    {
      "cell_type": "code",
      "metadata": {
        "colab": {
          "base_uri": "https://localhost:8080/"
        },
        "id": "PcKq7PjrBJAm",
        "outputId": "7ec62109-6dd8-4433-b8ef-f05648ed0f38"
      },
      "source": [
        "idades"
      ],
      "execution_count": null,
      "outputs": [
        {
          "output_type": "execute_result",
          "data": {
            "text/plain": [
              "[39, 30, 27, 18, 15]"
            ]
          },
          "metadata": {
            "tags": []
          },
          "execution_count": 15
        }
      ]
    },
    {
      "cell_type": "code",
      "metadata": {
        "colab": {
          "base_uri": "https://localhost:8080/"
        },
        "id": "CK5REbgmBLDy",
        "outputId": "1697f833-44b1-4eda-ebda-ebbae8bb794a"
      },
      "source": [
        "idades[4]"
      ],
      "execution_count": null,
      "outputs": [
        {
          "output_type": "execute_result",
          "data": {
            "text/plain": [
              "15"
            ]
          },
          "metadata": {
            "tags": []
          },
          "execution_count": 16
        }
      ]
    },
    {
      "cell_type": "code",
      "metadata": {
        "colab": {
          "base_uri": "https://localhost:8080/",
          "height": 165
        },
        "id": "vcm2H_crBUxp",
        "outputId": "8118b6c2-c208-441d-9216-022488ef0075"
      },
      "source": [
        "idades[5]"
      ],
      "execution_count": null,
      "outputs": [
        {
          "output_type": "error",
          "ename": "IndexError",
          "evalue": "ignored",
          "traceback": [
            "\u001b[0;31m---------------------------------------------------------------------------\u001b[0m",
            "\u001b[0;31mIndexError\u001b[0m                                Traceback (most recent call last)",
            "\u001b[0;32m<ipython-input-17-9afc071113c0>\u001b[0m in \u001b[0;36m<module>\u001b[0;34m()\u001b[0m\n\u001b[0;32m----> 1\u001b[0;31m \u001b[0midades\u001b[0m\u001b[0;34m[\u001b[0m\u001b[0;36m5\u001b[0m\u001b[0;34m]\u001b[0m\u001b[0;34m\u001b[0m\u001b[0;34m\u001b[0m\u001b[0m\n\u001b[0m",
            "\u001b[0;31mIndexError\u001b[0m: list index out of range"
          ]
        }
      ]
    },
    {
      "cell_type": "code",
      "metadata": {
        "colab": {
          "base_uri": "https://localhost:8080/"
        },
        "id": "_n2TEPgABXe7",
        "outputId": "31b10a0a-236c-4b1a-95ea-e610e3a30afd"
      },
      "source": [
        "for idade in idades:\r\n",
        "  print(idade)"
      ],
      "execution_count": null,
      "outputs": [
        {
          "output_type": "stream",
          "text": [
            "39\n",
            "30\n",
            "27\n",
            "18\n",
            "15\n"
          ],
          "name": "stdout"
        }
      ]
    },
    {
      "cell_type": "code",
      "metadata": {
        "id": "_VJLlCCCBsGh"
      },
      "source": [
        "idades.remove(30)"
      ],
      "execution_count": null,
      "outputs": []
    },
    {
      "cell_type": "code",
      "metadata": {
        "colab": {
          "base_uri": "https://localhost:8080/"
        },
        "id": "ik6Tb9S1B2sR",
        "outputId": "03a1260b-e149-4aca-ccca-9cd64238d074"
      },
      "source": [
        "idades"
      ],
      "execution_count": null,
      "outputs": [
        {
          "output_type": "execute_result",
          "data": {
            "text/plain": [
              "[39, 27, 18, 15]"
            ]
          },
          "metadata": {
            "tags": []
          },
          "execution_count": 20
        }
      ]
    },
    {
      "cell_type": "code",
      "metadata": {
        "id": "UXP4wiBiB4P6"
      },
      "source": [
        "idades.append(15)"
      ],
      "execution_count": null,
      "outputs": []
    },
    {
      "cell_type": "code",
      "metadata": {
        "colab": {
          "base_uri": "https://localhost:8080/"
        },
        "id": "hfqdejcgCO68",
        "outputId": "458d28c4-26f3-4e46-c2de-7b0c447300b5"
      },
      "source": [
        "idades"
      ],
      "execution_count": null,
      "outputs": [
        {
          "output_type": "execute_result",
          "data": {
            "text/plain": [
              "[39, 27, 18, 15, 15]"
            ]
          },
          "metadata": {
            "tags": []
          },
          "execution_count": 22
        }
      ]
    },
    {
      "cell_type": "code",
      "metadata": {
        "id": "nO367i5YCQ9A"
      },
      "source": [
        "idades.remove(15)"
      ],
      "execution_count": null,
      "outputs": []
    },
    {
      "cell_type": "code",
      "metadata": {
        "colab": {
          "base_uri": "https://localhost:8080/"
        },
        "id": "iwcwrNY3ChoG",
        "outputId": "07c36e6c-c0d1-47d6-a0d9-98f2aaab155c"
      },
      "source": [
        "idades"
      ],
      "execution_count": null,
      "outputs": [
        {
          "output_type": "execute_result",
          "data": {
            "text/plain": [
              "[39, 27, 18, 15]"
            ]
          },
          "metadata": {
            "tags": []
          },
          "execution_count": 24
        }
      ]
    },
    {
      "cell_type": "code",
      "metadata": {
        "colab": {
          "base_uri": "https://localhost:8080/"
        },
        "id": "KkhgqCICCi-f",
        "outputId": "b31d0ab6-0596-4f04-9aeb-d95d43b4e57a"
      },
      "source": [
        "idades.append(27)\r\n",
        "idades.remove(27)\r\n",
        "idades"
      ],
      "execution_count": null,
      "outputs": [
        {
          "output_type": "execute_result",
          "data": {
            "text/plain": [
              "[39, 18, 15, 27]"
            ]
          },
          "metadata": {
            "tags": []
          },
          "execution_count": 25
        }
      ]
    },
    {
      "cell_type": "code",
      "metadata": {
        "colab": {
          "base_uri": "https://localhost:8080/"
        },
        "id": "w9dt0dxqCrYy",
        "outputId": "a59425af-2a17-459a-fe9e-840994f45ca2"
      },
      "source": [
        "28 in idades"
      ],
      "execution_count": null,
      "outputs": [
        {
          "output_type": "execute_result",
          "data": {
            "text/plain": [
              "False"
            ]
          },
          "metadata": {
            "tags": []
          },
          "execution_count": 27
        }
      ]
    },
    {
      "cell_type": "code",
      "metadata": {
        "colab": {
          "base_uri": "https://localhost:8080/"
        },
        "id": "WsMnmpvTLrSM",
        "outputId": "029fc8d4-937e-4627-e25c-a541b293c13a"
      },
      "source": [
        "27 in idades"
      ],
      "execution_count": null,
      "outputs": [
        {
          "output_type": "execute_result",
          "data": {
            "text/plain": [
              "True"
            ]
          },
          "metadata": {
            "tags": []
          },
          "execution_count": 28
        }
      ]
    },
    {
      "cell_type": "code",
      "metadata": {
        "colab": {
          "base_uri": "https://localhost:8080/"
        },
        "id": "fAxJXCmIL8Nq",
        "outputId": "e604cb16-5f36-4419-e45e-58ca6b0f7b22"
      },
      "source": [
        "if 15 in idades:\r\n",
        "  idades.remove(15)\r\n",
        "  print(idades)"
      ],
      "execution_count": null,
      "outputs": [
        {
          "output_type": "stream",
          "text": [
            "[39, 18, 27]\n"
          ],
          "name": "stdout"
        }
      ]
    },
    {
      "cell_type": "code",
      "metadata": {
        "id": "lAEm806yMWnG"
      },
      "source": [
        "idades.insert(0, 20)"
      ],
      "execution_count": null,
      "outputs": []
    },
    {
      "cell_type": "code",
      "metadata": {
        "colab": {
          "base_uri": "https://localhost:8080/"
        },
        "id": "mUKpTFMWOLVi",
        "outputId": "540b87c5-1200-4399-9aef-0111f594dc17"
      },
      "source": [
        "idades"
      ],
      "execution_count": null,
      "outputs": [
        {
          "output_type": "execute_result",
          "data": {
            "text/plain": [
              "[20, 39, 18, 27]"
            ]
          },
          "metadata": {
            "tags": []
          },
          "execution_count": 31
        }
      ]
    },
    {
      "cell_type": "code",
      "metadata": {
        "id": "ikD8TsiqOM7e"
      },
      "source": [
        "idades.append([27, 29])"
      ],
      "execution_count": null,
      "outputs": []
    },
    {
      "cell_type": "code",
      "metadata": {
        "colab": {
          "base_uri": "https://localhost:8080/"
        },
        "id": "gVeQglnAQSXu",
        "outputId": "7589e449-2283-4a05-a40f-90272203d2ec"
      },
      "source": [
        "idades"
      ],
      "execution_count": null,
      "outputs": [
        {
          "output_type": "execute_result",
          "data": {
            "text/plain": [
              "[20, 39, 18, 27, [27, 29]]"
            ]
          },
          "metadata": {
            "tags": []
          },
          "execution_count": 34
        }
      ]
    },
    {
      "cell_type": "code",
      "metadata": {
        "colab": {
          "base_uri": "https://localhost:8080/"
        },
        "id": "s5WFHwESQZYI",
        "outputId": "6becda58-70e6-4638-916c-e85e007c0b07"
      },
      "source": [
        "for elemento in idades:\r\n",
        "  print(\"Recebi o elemento\", elemento)"
      ],
      "execution_count": null,
      "outputs": [
        {
          "output_type": "stream",
          "text": [
            "Recebi o elemento 20\n",
            "Recebi o elemento 39\n",
            "Recebi o elemento 18\n",
            "Recebi o elemento 27\n",
            "Recebi o elemento [27, 29]\n"
          ],
          "name": "stdout"
        }
      ]
    },
    {
      "cell_type": "code",
      "metadata": {
        "id": "XCDPWBpFQrXg"
      },
      "source": [
        "idades = [20, 39, 18]"
      ],
      "execution_count": null,
      "outputs": []
    },
    {
      "cell_type": "code",
      "metadata": {
        "colab": {
          "base_uri": "https://localhost:8080/"
        },
        "id": "o1QzEG6kRp2F",
        "outputId": "d088d69e-2607-4a9a-d2e0-29746395a72a"
      },
      "source": [
        "idades.extend([27, 19])\r\n",
        "idades"
      ],
      "execution_count": null,
      "outputs": [
        {
          "output_type": "execute_result",
          "data": {
            "text/plain": [
              "[20, 39, 18, 27, 19]"
            ]
          },
          "metadata": {
            "tags": []
          },
          "execution_count": 37
        }
      ]
    },
    {
      "cell_type": "code",
      "metadata": {
        "colab": {
          "base_uri": "https://localhost:8080/"
        },
        "id": "JCMZwELYRzZ5",
        "outputId": "bbabdd5f-b7f4-4739-f937-644fbb913246"
      },
      "source": [
        "for idade in idades:\r\n",
        "  print(idade + 1)"
      ],
      "execution_count": null,
      "outputs": [
        {
          "output_type": "stream",
          "text": [
            "21\n",
            "40\n",
            "19\n",
            "28\n",
            "20\n"
          ],
          "name": "stdout"
        }
      ]
    },
    {
      "cell_type": "code",
      "metadata": {
        "colab": {
          "base_uri": "https://localhost:8080/",
          "height": 217
        },
        "id": "aExDT5_aUPqm",
        "outputId": "ad61d2f2-f739-4f8f-cb59-78430ef39069"
      },
      "source": [
        "idades_no_ano_que_vem = {}\r\n",
        "for idade in idades:\r\n",
        "  idades_no_ano_que_vem.append(idade+1)\r\n",
        "  idades_no_ano_que_vem"
      ],
      "execution_count": null,
      "outputs": [
        {
          "output_type": "error",
          "ename": "AttributeError",
          "evalue": "ignored",
          "traceback": [
            "\u001b[0;31m---------------------------------------------------------------------------\u001b[0m",
            "\u001b[0;31mAttributeError\u001b[0m                            Traceback (most recent call last)",
            "\u001b[0;32m<ipython-input-40-36ed7cbc0fae>\u001b[0m in \u001b[0;36m<module>\u001b[0;34m()\u001b[0m\n\u001b[1;32m      1\u001b[0m \u001b[0midades_no_ano_que_vem\u001b[0m \u001b[0;34m=\u001b[0m \u001b[0;34m{\u001b[0m\u001b[0;34m}\u001b[0m\u001b[0;34m\u001b[0m\u001b[0;34m\u001b[0m\u001b[0m\n\u001b[1;32m      2\u001b[0m \u001b[0;32mfor\u001b[0m \u001b[0midade\u001b[0m \u001b[0;32min\u001b[0m \u001b[0midades\u001b[0m\u001b[0;34m:\u001b[0m\u001b[0;34m\u001b[0m\u001b[0;34m\u001b[0m\u001b[0m\n\u001b[0;32m----> 3\u001b[0;31m   \u001b[0midades_no_ano_que_vem\u001b[0m\u001b[0;34m.\u001b[0m\u001b[0mappend\u001b[0m\u001b[0;34m(\u001b[0m\u001b[0midade\u001b[0m\u001b[0;34m+\u001b[0m\u001b[0;36m1\u001b[0m\u001b[0;34m)\u001b[0m\u001b[0;34m\u001b[0m\u001b[0;34m\u001b[0m\u001b[0m\n\u001b[0m\u001b[1;32m      4\u001b[0m   \u001b[0midades_no_ano_que_vem\u001b[0m\u001b[0;34m\u001b[0m\u001b[0;34m\u001b[0m\u001b[0m\n",
            "\u001b[0;31mAttributeError\u001b[0m: 'dict' object has no attribute 'append'"
          ]
        }
      ]
    },
    {
      "cell_type": "code",
      "metadata": {
        "id": "eujl_7ZtUq-n"
      },
      "source": [
        "idades_no_ano_que_vem = {}\r\n"
      ],
      "execution_count": null,
      "outputs": []
    },
    {
      "cell_type": "code",
      "metadata": {
        "colab": {
          "base_uri": "https://localhost:8080/",
          "height": 200
        },
        "id": "Fosmd_QuVOMf",
        "outputId": "ab8db6de-ea6b-4335-f72c-d47bdb9699ac"
      },
      "source": [
        "for idade in idades:\r\n",
        "  idades_no_ano_que_vem.append(idade+1)\r\n",
        "  idades_no_ano_que_vem"
      ],
      "execution_count": null,
      "outputs": [
        {
          "output_type": "error",
          "ename": "AttributeError",
          "evalue": "ignored",
          "traceback": [
            "\u001b[0;31m---------------------------------------------------------------------------\u001b[0m",
            "\u001b[0;31mAttributeError\u001b[0m                            Traceback (most recent call last)",
            "\u001b[0;32m<ipython-input-42-d4ae1fedd1cc>\u001b[0m in \u001b[0;36m<module>\u001b[0;34m()\u001b[0m\n\u001b[1;32m      1\u001b[0m \u001b[0;32mfor\u001b[0m \u001b[0midade\u001b[0m \u001b[0;32min\u001b[0m \u001b[0midades\u001b[0m\u001b[0;34m:\u001b[0m\u001b[0;34m\u001b[0m\u001b[0;34m\u001b[0m\u001b[0m\n\u001b[0;32m----> 2\u001b[0;31m   \u001b[0midades_no_ano_que_vem\u001b[0m\u001b[0;34m.\u001b[0m\u001b[0mappend\u001b[0m\u001b[0;34m(\u001b[0m\u001b[0midade\u001b[0m\u001b[0;34m+\u001b[0m\u001b[0;36m1\u001b[0m\u001b[0;34m)\u001b[0m\u001b[0;34m\u001b[0m\u001b[0;34m\u001b[0m\u001b[0m\n\u001b[0m\u001b[1;32m      3\u001b[0m   \u001b[0midades_no_ano_que_vem\u001b[0m\u001b[0;34m\u001b[0m\u001b[0;34m\u001b[0m\u001b[0m\n",
            "\u001b[0;31mAttributeError\u001b[0m: 'dict' object has no attribute 'append'"
          ]
        }
      ]
    },
    {
      "cell_type": "code",
      "metadata": {
        "id": "6HP3NGLnVcsT"
      },
      "source": [
        "idades_no_ano_que_vem = []\r\n",
        "for idade in idades:\r\n",
        "  idades_no_ano_que_vem.append(idade+1)\r\n",
        "  idades_no_ano_que_vem"
      ],
      "execution_count": null,
      "outputs": []
    },
    {
      "cell_type": "code",
      "metadata": {
        "colab": {
          "base_uri": "https://localhost:8080/"
        },
        "id": "DJ4hx50OV1j4",
        "outputId": "e8e90ff8-8222-4207-98df-bd84cab43258"
      },
      "source": [
        "idades_no_ano_que_vem"
      ],
      "execution_count": null,
      "outputs": [
        {
          "output_type": "execute_result",
          "data": {
            "text/plain": [
              "[21, 40, 19, 28, 20]"
            ]
          },
          "metadata": {
            "tags": []
          },
          "execution_count": 44
        }
      ]
    },
    {
      "cell_type": "code",
      "metadata": {
        "id": "A2lGqRfZV7Ue",
        "colab": {
          "base_uri": "https://localhost:8080/"
        },
        "outputId": "6eda9691-0f76-4afe-8d37-5c2c2def85d3"
      },
      "source": [
        "idades_no_ano_que_vem = [(idade+1) for idade in idades]\r\n",
        "idades_no_ano_que_vem"
      ],
      "execution_count": null,
      "outputs": [
        {
          "output_type": "execute_result",
          "data": {
            "text/plain": [
              "[21, 40, 19, 28, 20]"
            ]
          },
          "metadata": {
            "tags": []
          },
          "execution_count": 46
        }
      ]
    },
    {
      "cell_type": "code",
      "metadata": {
        "colab": {
          "base_uri": "https://localhost:8080/"
        },
        "id": "SxjP4RLBjORG",
        "outputId": "47bb7791-1652-4bd2-e3bb-4d99170c772e"
      },
      "source": [
        "[(idade) for idade in idades if idade > 21]"
      ],
      "execution_count": null,
      "outputs": [
        {
          "output_type": "execute_result",
          "data": {
            "text/plain": [
              "[39, 27]"
            ]
          },
          "metadata": {
            "tags": []
          },
          "execution_count": 47
        }
      ]
    },
    {
      "cell_type": "code",
      "metadata": {
        "colab": {
          "base_uri": "https://localhost:8080/"
        },
        "id": "KnDbHrqPkI_a",
        "outputId": "96dc82c7-28f4-458e-a50e-b3e46b3e9546"
      },
      "source": [
        "idade"
      ],
      "execution_count": null,
      "outputs": [
        {
          "output_type": "execute_result",
          "data": {
            "text/plain": [
              "19"
            ]
          },
          "metadata": {
            "tags": []
          },
          "execution_count": 48
        }
      ]
    },
    {
      "cell_type": "code",
      "metadata": {
        "colab": {
          "base_uri": "https://localhost:8080/"
        },
        "id": "8lnZ4AJikKbY",
        "outputId": "e957f3ed-d554-4c3b-f910-83e9c93e9924"
      },
      "source": [
        "idades"
      ],
      "execution_count": null,
      "outputs": [
        {
          "output_type": "execute_result",
          "data": {
            "text/plain": [
              "[20, 39, 18, 27, 19]"
            ]
          },
          "metadata": {
            "tags": []
          },
          "execution_count": 49
        }
      ]
    },
    {
      "cell_type": "code",
      "metadata": {
        "colab": {
          "base_uri": "https://localhost:8080/"
        },
        "id": "DJzhmRi2kL8x",
        "outputId": "8839a789-4695-49d6-90cf-717aa29062a7"
      },
      "source": [
        "def proximo_ano(idade):\r\n",
        "  return idade+1\r\n",
        "\r\n",
        "[proximo_ano(idade) for idade in idades if idade > 21]"
      ],
      "execution_count": null,
      "outputs": [
        {
          "output_type": "execute_result",
          "data": {
            "text/plain": [
              "[40, 28]"
            ]
          },
          "metadata": {
            "tags": []
          },
          "execution_count": 52
        }
      ]
    },
    {
      "cell_type": "code",
      "metadata": {
        "colab": {
          "base_uri": "https://localhost:8080/"
        },
        "id": "lVn38u75k9ul",
        "outputId": "0e757bc7-abba-4008-f92a-b416a42997a1"
      },
      "source": [
        "def faz_processamento_de_visualizacao(lista):\r\n",
        "  print(len(lista))\r\n",
        "  list.append(13)"
      ],
      "execution_count": null,
      "outputs": [
        {
          "output_type": "execute_result",
          "data": {
            "text/plain": [
              "[16, 21, 29, 56, 43]"
            ]
          },
          "metadata": {
            "tags": []
          },
          "execution_count": 59
        }
      ]
    },
    {
      "cell_type": "code",
      "metadata": {
        "colab": {
          "base_uri": "https://localhost:8080/",
          "height": 321
        },
        "id": "jjTI4kYDmoLi",
        "outputId": "d25fc282-081c-449c-87ec-7aa7c371850b"
      },
      "source": [
        "idades = [16, 21, 29, 56, 43]\r\n",
        "faz_processamento_de_visualizacao(idades)\r\n",
        "idades"
      ],
      "execution_count": null,
      "outputs": [
        {
          "output_type": "stream",
          "text": [
            "5\n"
          ],
          "name": "stdout"
        },
        {
          "output_type": "error",
          "ename": "TypeError",
          "evalue": "ignored",
          "traceback": [
            "\u001b[0;31m---------------------------------------------------------------------------\u001b[0m",
            "\u001b[0;31mTypeError\u001b[0m                                 Traceback (most recent call last)",
            "\u001b[0;32m<ipython-input-60-dc6c07cb8926>\u001b[0m in \u001b[0;36m<module>\u001b[0;34m()\u001b[0m\n\u001b[1;32m      1\u001b[0m \u001b[0midades\u001b[0m \u001b[0;34m=\u001b[0m \u001b[0;34m[\u001b[0m\u001b[0;36m16\u001b[0m\u001b[0;34m,\u001b[0m \u001b[0;36m21\u001b[0m\u001b[0;34m,\u001b[0m \u001b[0;36m29\u001b[0m\u001b[0;34m,\u001b[0m \u001b[0;36m56\u001b[0m\u001b[0;34m,\u001b[0m \u001b[0;36m43\u001b[0m\u001b[0;34m]\u001b[0m\u001b[0;34m\u001b[0m\u001b[0;34m\u001b[0m\u001b[0m\n\u001b[0;32m----> 2\u001b[0;31m \u001b[0mfaz_processamento_de_visualizacao\u001b[0m\u001b[0;34m(\u001b[0m\u001b[0midades\u001b[0m\u001b[0;34m)\u001b[0m\u001b[0;34m\u001b[0m\u001b[0;34m\u001b[0m\u001b[0m\n\u001b[0m\u001b[1;32m      3\u001b[0m \u001b[0midades\u001b[0m\u001b[0;34m\u001b[0m\u001b[0;34m\u001b[0m\u001b[0m\n",
            "\u001b[0;32m<ipython-input-59-dbad0ec543ee>\u001b[0m in \u001b[0;36mfaz_processamento_de_visualizacao\u001b[0;34m(lista)\u001b[0m\n\u001b[1;32m      1\u001b[0m \u001b[0;32mdef\u001b[0m \u001b[0mfaz_processamento_de_visualizacao\u001b[0m\u001b[0;34m(\u001b[0m\u001b[0mlista\u001b[0m\u001b[0;34m)\u001b[0m\u001b[0;34m:\u001b[0m\u001b[0;34m\u001b[0m\u001b[0;34m\u001b[0m\u001b[0m\n\u001b[1;32m      2\u001b[0m   \u001b[0mprint\u001b[0m\u001b[0;34m(\u001b[0m\u001b[0mlen\u001b[0m\u001b[0;34m(\u001b[0m\u001b[0mlista\u001b[0m\u001b[0;34m)\u001b[0m\u001b[0;34m)\u001b[0m\u001b[0;34m\u001b[0m\u001b[0;34m\u001b[0m\u001b[0m\n\u001b[0;32m----> 3\u001b[0;31m   \u001b[0mlist\u001b[0m\u001b[0;34m.\u001b[0m\u001b[0mappend\u001b[0m\u001b[0;34m(\u001b[0m\u001b[0;36m13\u001b[0m\u001b[0;34m)\u001b[0m\u001b[0;34m\u001b[0m\u001b[0;34m\u001b[0m\u001b[0m\n\u001b[0m\u001b[1;32m      4\u001b[0m \u001b[0midades\u001b[0m\u001b[0;34m\u001b[0m\u001b[0;34m\u001b[0m\u001b[0m\n",
            "\u001b[0;31mTypeError\u001b[0m: descriptor 'append' requires a 'list' object but received a 'int'"
          ]
        }
      ]
    },
    {
      "cell_type": "code",
      "metadata": {
        "id": "FHgTCZ31narT"
      },
      "source": [
        "def faz_processamento_de_visualizacao(lista):\r\n",
        "  print(len(lista))\r\n",
        "  lista.append(13)"
      ],
      "execution_count": null,
      "outputs": []
    },
    {
      "cell_type": "code",
      "metadata": {
        "colab": {
          "base_uri": "https://localhost:8080/"
        },
        "id": "8GSUkPSpootw",
        "outputId": "9c57f760-72ba-4062-fcac-a698b2531dc4"
      },
      "source": [
        "idades = [16, 21, 29, 56, 43]\r\n",
        "faz_processamento_de_visualizacao(idades)\r\n",
        "idades"
      ],
      "execution_count": null,
      "outputs": [
        {
          "output_type": "stream",
          "text": [
            "5\n"
          ],
          "name": "stdout"
        },
        {
          "output_type": "execute_result",
          "data": {
            "text/plain": [
              "[16, 21, 29, 56, 43, 13]"
            ]
          },
          "metadata": {
            "tags": []
          },
          "execution_count": 62
        }
      ]
    },
    {
      "cell_type": "code",
      "metadata": {
        "id": "6rP2_BBjo_KU"
      },
      "source": [
        "def faz_processamento_de_visualizacao(lista = list()):\r\n",
        "  print(len(lista))\r\n",
        "  print(lista)\r\n",
        "  lista.append(13)"
      ],
      "execution_count": null,
      "outputs": []
    },
    {
      "cell_type": "code",
      "metadata": {
        "colab": {
          "base_uri": "https://localhost:8080/"
        },
        "id": "jvVG7EzkqMxq",
        "outputId": "f3321b82-9b17-4881-d3ff-0e2086470d51"
      },
      "source": [
        "faz_processamento_de_visualizacao()"
      ],
      "execution_count": null,
      "outputs": [
        {
          "output_type": "stream",
          "text": [
            "0\n",
            "[]\n"
          ],
          "name": "stdout"
        }
      ]
    },
    {
      "cell_type": "code",
      "metadata": {
        "colab": {
          "base_uri": "https://localhost:8080/"
        },
        "id": "tTziVoTRqOyV",
        "outputId": "8aa39a99-b9c8-4ca7-e095-82e37c5a4dac"
      },
      "source": [
        "faz_processamento_de_visualizacao()"
      ],
      "execution_count": null,
      "outputs": [
        {
          "output_type": "stream",
          "text": [
            "1\n",
            "[13]\n"
          ],
          "name": "stdout"
        }
      ]
    },
    {
      "cell_type": "code",
      "metadata": {
        "colab": {
          "base_uri": "https://localhost:8080/"
        },
        "id": "QsSeQKHoqna4",
        "outputId": "45da0529-ba7a-4ba7-a6fd-d3ef01f3e10d"
      },
      "source": [
        "faz_processamento_de_visualizacao()"
      ],
      "execution_count": null,
      "outputs": [
        {
          "output_type": "stream",
          "text": [
            "2\n",
            "[13, 13]\n"
          ],
          "name": "stdout"
        }
      ]
    },
    {
      "cell_type": "code",
      "metadata": {
        "colab": {
          "base_uri": "https://localhost:8080/"
        },
        "id": "W6DM5VtJqv-w",
        "outputId": "f570b755-57cd-4bb9-8078-9bc6678a84d6"
      },
      "source": [
        "faz_processamento_de_visualizacao()"
      ],
      "execution_count": null,
      "outputs": [
        {
          "output_type": "stream",
          "text": [
            "3\n",
            "[13, 13, 13]\n"
          ],
          "name": "stdout"
        }
      ]
    },
    {
      "cell_type": "code",
      "metadata": {
        "colab": {
          "base_uri": "https://localhost:8080/"
        },
        "id": "hl9I0xscq7Pu",
        "outputId": "7ca60d2e-e760-46cc-8e64-f941ae811d68"
      },
      "source": [
        "faz_processamento_de_visualizacao"
      ],
      "execution_count": null,
      "outputs": [
        {
          "output_type": "execute_result",
          "data": {
            "text/plain": [
              "<function __main__.faz_processamento_de_visualizacao>"
            ]
          },
          "metadata": {
            "tags": []
          },
          "execution_count": 84
        }
      ]
    },
    {
      "cell_type": "code",
      "metadata": {
        "id": "9wq1dai2q-2F"
      },
      "source": [
        "def faz_processamento_de_visualizacao(lista = None):\r\n",
        "  if lista == None:\r\n",
        "    lista = list()\r\n",
        "  print(len(lista))\r\n",
        "  print(lista)\r\n",
        "  lista.append(13)"
      ],
      "execution_count": null,
      "outputs": []
    },
    {
      "cell_type": "code",
      "metadata": {
        "colab": {
          "base_uri": "https://localhost:8080/"
        },
        "id": "SOsuACSOrDwb",
        "outputId": "9864c5e8-5e37-4518-acaf-8eacdbea82b7"
      },
      "source": [
        "faz_processamento_de_visualizacao()\r\n",
        "faz_processamento_de_visualizacao()\r\n",
        "faz_processamento_de_visualizacao()\r\n",
        "faz_processamento_de_visualizacao()"
      ],
      "execution_count": null,
      "outputs": [
        {
          "output_type": "stream",
          "text": [
            "0\n",
            "[]\n",
            "0\n",
            "[]\n",
            "0\n",
            "[]\n",
            "0\n",
            "[]\n"
          ],
          "name": "stdout"
        }
      ]
    },
    {
      "cell_type": "code",
      "metadata": {
        "id": "fqlzZnmutP2l"
      },
      "source": [
        ""
      ],
      "execution_count": null,
      "outputs": []
    },
    {
      "cell_type": "markdown",
      "metadata": {
        "id": "6_p3RY-Wuegf"
      },
      "source": [
        "Objetos Próprios"
      ]
    },
    {
      "cell_type": "code",
      "metadata": {
        "id": "MOOWHwILuk6A"
      },
      "source": [
        "class ContaCorrente:\r\n",
        "  def __init__(self, codigo):\r\n",
        "    self.codigo = codigo\r\n",
        "    self.saldo = 0\r\n",
        "\r\n",
        "  def deposita(self, valor):\r\n",
        "    self.saldo += valor\r\n",
        "\r\n",
        "  def __str__(self):\r\n",
        "    return \"[>>Codigo {} Saldo {}<<]\".format(self.codigo, self.saldo)\r\n",
        "\r\n"
      ],
      "execution_count": 78,
      "outputs": []
    },
    {
      "cell_type": "code",
      "metadata": {
        "colab": {
          "base_uri": "https://localhost:8080/"
        },
        "id": "y8LfhixaytnR",
        "outputId": "b44b0124-4ddb-41f4-b870-b124b6a4dbbc"
      },
      "source": [
        "conta_do_gui = ContaCorrente(15)\r\n",
        "print(conta_do_gui)"
      ],
      "execution_count": 79,
      "outputs": [
        {
          "output_type": "stream",
          "text": [
            "[>>Codigo 15 Saldo 0<<]\n"
          ],
          "name": "stdout"
        }
      ]
    },
    {
      "cell_type": "code",
      "metadata": {
        "colab": {
          "base_uri": "https://localhost:8080/"
        },
        "id": "qM4_n2eQzQ13",
        "outputId": "2315a9f1-804b-4d1a-c3d2-ebfbc1af3277"
      },
      "source": [
        "conta_do_gui.deposita(500)\r\n",
        "print(conta_do_gui)"
      ],
      "execution_count": 80,
      "outputs": [
        {
          "output_type": "stream",
          "text": [
            "[>>Codigo 15 Saldo 500<<]\n"
          ],
          "name": "stdout"
        }
      ]
    },
    {
      "cell_type": "code",
      "metadata": {
        "colab": {
          "base_uri": "https://localhost:8080/"
        },
        "id": "bXwhJ3UO0mjU",
        "outputId": "f92a5d01-fde0-40ee-ad7c-716348b39530"
      },
      "source": [
        "conta_da_dani = ContaCorrente(47685)\r\n",
        "conta_da_dani.deposita(1000)\r\n",
        "print(conta_da_dani)"
      ],
      "execution_count": 81,
      "outputs": [
        {
          "output_type": "stream",
          "text": [
            "[>>Codigo 47685 Saldo 1000<<]\n"
          ],
          "name": "stdout"
        }
      ]
    },
    {
      "cell_type": "code",
      "metadata": {
        "colab": {
          "base_uri": "https://localhost:8080/"
        },
        "id": "gkKoxEa31BjK",
        "outputId": "0969ad68-54f7-4cc1-ada7-0eba655533ea"
      },
      "source": [
        "contas = [conta_do_gui, conta_da_dani]\r\n",
        "for conta in contas:\r\n",
        "  print(conta)"
      ],
      "execution_count": 82,
      "outputs": [
        {
          "output_type": "stream",
          "text": [
            "[>>Codigo 15 Saldo 500<<]\n",
            "[>>Codigo 47685 Saldo 1000<<]\n"
          ],
          "name": "stdout"
        }
      ]
    },
    {
      "cell_type": "code",
      "metadata": {
        "id": "CHGcftGRgcDO"
      },
      "source": [
        "contas = [conta_do_gui, conta_da_dani, conta_do_gui]"
      ],
      "execution_count": 83,
      "outputs": []
    },
    {
      "cell_type": "code",
      "metadata": {
        "colab": {
          "base_uri": "https://localhost:8080/"
        },
        "id": "jRd-Kvv4hspq",
        "outputId": "a9b1b4c2-0709-42f5-f61b-a222cfbe4b31"
      },
      "source": [
        "print(contas[0])"
      ],
      "execution_count": 84,
      "outputs": [
        {
          "output_type": "stream",
          "text": [
            "[>>Codigo 15 Saldo 500<<]\n"
          ],
          "name": "stdout"
        }
      ]
    },
    {
      "cell_type": "code",
      "metadata": {
        "id": "R2Fwl9sAh-lz"
      },
      "source": [
        "conta_do_gui.deposita(100)"
      ],
      "execution_count": 85,
      "outputs": []
    },
    {
      "cell_type": "code",
      "metadata": {
        "colab": {
          "base_uri": "https://localhost:8080/"
        },
        "id": "6L0i7uIdio2P",
        "outputId": "9a500b5d-d535-4c9e-c0fe-3a0d879fc169"
      },
      "source": [
        "conta_do_gui"
      ],
      "execution_count": 86,
      "outputs": [
        {
          "output_type": "execute_result",
          "data": {
            "text/plain": [
              "<__main__.ContaCorrente at 0x7f3d084c3490>"
            ]
          },
          "metadata": {
            "tags": []
          },
          "execution_count": 86
        }
      ]
    },
    {
      "cell_type": "code",
      "metadata": {
        "colab": {
          "base_uri": "https://localhost:8080/"
        },
        "id": "G23YP8EYivyr",
        "outputId": "f1609951-0cbb-4a7b-9ebe-c473fb8fdb87"
      },
      "source": [
        "contas"
      ],
      "execution_count": 87,
      "outputs": [
        {
          "output_type": "execute_result",
          "data": {
            "text/plain": [
              "[<__main__.ContaCorrente at 0x7f3d084c3490>,\n",
              " <__main__.ContaCorrente at 0x7f3d084dac50>,\n",
              " <__main__.ContaCorrente at 0x7f3d084c3490>]"
            ]
          },
          "metadata": {
            "tags": []
          },
          "execution_count": 87
        }
      ]
    },
    {
      "cell_type": "code",
      "metadata": {
        "colab": {
          "base_uri": "https://localhost:8080/"
        },
        "id": "Wslc0VAOixi3",
        "outputId": "79d882d1-37d2-40e7-cb69-a3e5cc55e88d"
      },
      "source": [
        "print(contas[0])"
      ],
      "execution_count": 88,
      "outputs": [
        {
          "output_type": "stream",
          "text": [
            "[>>Codigo 15 Saldo 600<<]\n"
          ],
          "name": "stdout"
        }
      ]
    },
    {
      "cell_type": "code",
      "metadata": {
        "id": "CImav6V8nQO3"
      },
      "source": [
        "contas = [conta_do_gui, conta_da_dani]\r\n"
      ],
      "execution_count": 89,
      "outputs": []
    },
    {
      "cell_type": "code",
      "metadata": {
        "colab": {
          "base_uri": "https://localhost:8080/",
          "height": 165
        },
        "id": "wNztp0B9nxYH",
        "outputId": "7524fa38-2a1e-4321-c4cb-4abc354b6a01"
      },
      "source": [
        "print(contas[2])"
      ],
      "execution_count": 90,
      "outputs": [
        {
          "output_type": "error",
          "ename": "IndexError",
          "evalue": "ignored",
          "traceback": [
            "\u001b[0;31m---------------------------------------------------------------------------\u001b[0m",
            "\u001b[0;31mIndexError\u001b[0m                                Traceback (most recent call last)",
            "\u001b[0;32m<ipython-input-90-1cb4a673b345>\u001b[0m in \u001b[0;36m<module>\u001b[0;34m()\u001b[0m\n\u001b[0;32m----> 1\u001b[0;31m \u001b[0mprint\u001b[0m\u001b[0;34m(\u001b[0m\u001b[0mcontas\u001b[0m\u001b[0;34m[\u001b[0m\u001b[0;36m2\u001b[0m\u001b[0;34m]\u001b[0m\u001b[0;34m)\u001b[0m\u001b[0;34m\u001b[0m\u001b[0;34m\u001b[0m\u001b[0m\n\u001b[0m",
            "\u001b[0;31mIndexError\u001b[0m: list index out of range"
          ]
        }
      ]
    },
    {
      "cell_type": "code",
      "metadata": {
        "id": "eJRVMVmxoYo3",
        "colab": {
          "base_uri": "https://localhost:8080/",
          "height": 165
        },
        "outputId": "96764bdf-1447-4994-91f2-f7087cb51cbc"
      },
      "source": [
        "contas[2].deposita(300)"
      ],
      "execution_count": 91,
      "outputs": [
        {
          "output_type": "error",
          "ename": "IndexError",
          "evalue": "ignored",
          "traceback": [
            "\u001b[0;31m---------------------------------------------------------------------------\u001b[0m",
            "\u001b[0;31mIndexError\u001b[0m                                Traceback (most recent call last)",
            "\u001b[0;32m<ipython-input-91-e325c2d0ca71>\u001b[0m in \u001b[0;36m<module>\u001b[0;34m()\u001b[0m\n\u001b[0;32m----> 1\u001b[0;31m \u001b[0mcontas\u001b[0m\u001b[0;34m[\u001b[0m\u001b[0;36m2\u001b[0m\u001b[0;34m]\u001b[0m\u001b[0;34m.\u001b[0m\u001b[0mdeposita\u001b[0m\u001b[0;34m(\u001b[0m\u001b[0;36m300\u001b[0m\u001b[0;34m)\u001b[0m\u001b[0;34m\u001b[0m\u001b[0;34m\u001b[0m\u001b[0m\n\u001b[0m",
            "\u001b[0;31mIndexError\u001b[0m: list index out of range"
          ]
        }
      ]
    },
    {
      "cell_type": "code",
      "metadata": {
        "colab": {
          "base_uri": "https://localhost:8080/"
        },
        "id": "v28vkGIRoeHm",
        "outputId": "44adf298-b018-4944-8a3f-3c639a9b5e32"
      },
      "source": [
        "conta_do_gui"
      ],
      "execution_count": 92,
      "outputs": [
        {
          "output_type": "execute_result",
          "data": {
            "text/plain": [
              "<__main__.ContaCorrente at 0x7f3d084c3490>"
            ]
          },
          "metadata": {
            "tags": []
          },
          "execution_count": 92
        }
      ]
    },
    {
      "cell_type": "code",
      "metadata": {
        "colab": {
          "base_uri": "https://localhost:8080/"
        },
        "id": "63mMj6YdogeS",
        "outputId": "ba15911f-c505-4b0c-918c-388b0d3f70d1"
      },
      "source": [
        "print(conta_do_gui)"
      ],
      "execution_count": 93,
      "outputs": [
        {
          "output_type": "stream",
          "text": [
            "[>>Codigo 15 Saldo 600<<]\n"
          ],
          "name": "stdout"
        }
      ]
    },
    {
      "cell_type": "code",
      "metadata": {
        "colab": {
          "base_uri": "https://localhost:8080/"
        },
        "id": "UtwhsTIKon9t",
        "outputId": "0a943b56-ca77-4349-bad3-0b9702fb3508"
      },
      "source": [
        "def deposita_para_todas(contas):\r\n",
        "  for conta in contas:\r\n",
        "    conta.deposita(100)\r\n",
        "\r\n",
        "contas = [conta_do_gui, conta_da_dani]\r\n",
        "print(contas[0], contas[1])\r\n",
        "deposita_para_todas(contas)\r\n",
        "print(contas[0], contas[1])"
      ],
      "execution_count": 94,
      "outputs": [
        {
          "output_type": "stream",
          "text": [
            "[>>Codigo 15 Saldo 600<<] [>>Codigo 47685 Saldo 1000<<]\n",
            "[>>Codigo 15 Saldo 700<<] [>>Codigo 47685 Saldo 1100<<]\n"
          ],
          "name": "stdout"
        }
      ]
    },
    {
      "cell_type": "code",
      "metadata": {
        "colab": {
          "base_uri": "https://localhost:8080/"
        },
        "id": "zS13unQOuCqK",
        "outputId": "477596d5-de31-46b3-ad3b-bbb98619f1ca"
      },
      "source": [
        "contas.insert(0, 76)\r\n",
        "print(contas[0], contas[1], contas[2])\r\n"
      ],
      "execution_count": 95,
      "outputs": [
        {
          "output_type": "stream",
          "text": [
            "76 [>>Codigo 15 Saldo 700<<] [>>Codigo 47685 Saldo 1100<<]\n"
          ],
          "name": "stdout"
        }
      ]
    },
    {
      "cell_type": "code",
      "metadata": {
        "colab": {
          "base_uri": "https://localhost:8080/",
          "height": 304
        },
        "id": "Ldf3RpDs7Ih8",
        "outputId": "781cf2a3-aa50-47bb-d7a1-d77556bd7f56"
      },
      "source": [
        "deposita_para_todas(contas)\r\n",
        "print(contas[0], contas[1], contas[2])"
      ],
      "execution_count": 96,
      "outputs": [
        {
          "output_type": "error",
          "ename": "AttributeError",
          "evalue": "ignored",
          "traceback": [
            "\u001b[0;31m---------------------------------------------------------------------------\u001b[0m",
            "\u001b[0;31mAttributeError\u001b[0m                            Traceback (most recent call last)",
            "\u001b[0;32m<ipython-input-96-92ac4487eece>\u001b[0m in \u001b[0;36m<module>\u001b[0;34m()\u001b[0m\n\u001b[0;32m----> 1\u001b[0;31m \u001b[0mdeposita_para_todas\u001b[0m\u001b[0;34m(\u001b[0m\u001b[0mcontas\u001b[0m\u001b[0;34m)\u001b[0m\u001b[0;34m\u001b[0m\u001b[0;34m\u001b[0m\u001b[0m\n\u001b[0m\u001b[1;32m      2\u001b[0m \u001b[0mprint\u001b[0m\u001b[0;34m(\u001b[0m\u001b[0mcontas\u001b[0m\u001b[0;34m[\u001b[0m\u001b[0;36m0\u001b[0m\u001b[0;34m]\u001b[0m\u001b[0;34m,\u001b[0m \u001b[0mcontas\u001b[0m\u001b[0;34m[\u001b[0m\u001b[0;36m1\u001b[0m\u001b[0;34m]\u001b[0m\u001b[0;34m,\u001b[0m \u001b[0mcontas\u001b[0m\u001b[0;34m[\u001b[0m\u001b[0;36m2\u001b[0m\u001b[0;34m]\u001b[0m\u001b[0;34m)\u001b[0m\u001b[0;34m\u001b[0m\u001b[0;34m\u001b[0m\u001b[0m\n",
            "\u001b[0;32m<ipython-input-94-5c36215b3621>\u001b[0m in \u001b[0;36mdeposita_para_todas\u001b[0;34m(contas)\u001b[0m\n\u001b[1;32m      1\u001b[0m \u001b[0;32mdef\u001b[0m \u001b[0mdeposita_para_todas\u001b[0m\u001b[0;34m(\u001b[0m\u001b[0mcontas\u001b[0m\u001b[0;34m)\u001b[0m\u001b[0;34m:\u001b[0m\u001b[0;34m\u001b[0m\u001b[0;34m\u001b[0m\u001b[0m\n\u001b[1;32m      2\u001b[0m   \u001b[0;32mfor\u001b[0m \u001b[0mconta\u001b[0m \u001b[0;32min\u001b[0m \u001b[0mcontas\u001b[0m\u001b[0;34m:\u001b[0m\u001b[0;34m\u001b[0m\u001b[0;34m\u001b[0m\u001b[0m\n\u001b[0;32m----> 3\u001b[0;31m     \u001b[0mconta\u001b[0m\u001b[0;34m.\u001b[0m\u001b[0mdeposita\u001b[0m\u001b[0;34m(\u001b[0m\u001b[0;36m100\u001b[0m\u001b[0;34m)\u001b[0m\u001b[0;34m\u001b[0m\u001b[0;34m\u001b[0m\u001b[0m\n\u001b[0m\u001b[1;32m      4\u001b[0m \u001b[0;34m\u001b[0m\u001b[0m\n\u001b[1;32m      5\u001b[0m \u001b[0mcontas\u001b[0m \u001b[0;34m=\u001b[0m \u001b[0;34m[\u001b[0m\u001b[0mconta_do_gui\u001b[0m\u001b[0;34m,\u001b[0m \u001b[0mconta_da_dani\u001b[0m\u001b[0;34m]\u001b[0m\u001b[0;34m\u001b[0m\u001b[0;34m\u001b[0m\u001b[0m\n",
            "\u001b[0;31mAttributeError\u001b[0m: 'int' object has no attribute 'deposita'"
          ]
        }
      ]
    },
    {
      "cell_type": "code",
      "metadata": {
        "id": "ZGIWFBVu8w_e"
      },
      "source": [
        "guilherme = ('Guilherme', 37, 1981) # tupla\r\n",
        "daniela = ('Daniela', 31, 1987) \r\n",
        "# paulo = (39, 'Paulo, 1979) # ruim"
      ],
      "execution_count": 97,
      "outputs": []
    },
    {
      "cell_type": "code",
      "metadata": {
        "colab": {
          "base_uri": "https://localhost:8080/",
          "height": 165
        },
        "id": "5lkfEhIa9m0G",
        "outputId": "da62dc8b-a3b3-4672-cc7a-a785a7ef200b"
      },
      "source": [
        "guilherme.append(1234)"
      ],
      "execution_count": 98,
      "outputs": [
        {
          "output_type": "error",
          "ename": "AttributeError",
          "evalue": "ignored",
          "traceback": [
            "\u001b[0;31m---------------------------------------------------------------------------\u001b[0m",
            "\u001b[0;31mAttributeError\u001b[0m                            Traceback (most recent call last)",
            "\u001b[0;32m<ipython-input-98-c4e4d7e68ab2>\u001b[0m in \u001b[0;36m<module>\u001b[0;34m()\u001b[0m\n\u001b[0;32m----> 1\u001b[0;31m \u001b[0mguilherme\u001b[0m\u001b[0;34m.\u001b[0m\u001b[0mappend\u001b[0m\u001b[0;34m(\u001b[0m\u001b[0;36m1234\u001b[0m\u001b[0;34m)\u001b[0m\u001b[0;34m\u001b[0m\u001b[0;34m\u001b[0m\u001b[0m\n\u001b[0m",
            "\u001b[0;31mAttributeError\u001b[0m: 'tuple' object has no attribute 'append'"
          ]
        }
      ]
    },
    {
      "cell_type": "code",
      "metadata": {
        "colab": {
          "base_uri": "https://localhost:8080/",
          "height": 217
        },
        "id": "L7dNJwILGkQb",
        "outputId": "abd5c06c-dcca-47be-d0d5-496ed5800eb3"
      },
      "source": [
        "conta_do_gui = (15, 1000)\r\n",
        "conta_do_gui.deposita() # variação oo\r\n",
        "\r\n",
        "conta_do_gui[1]"
      ],
      "execution_count": 103,
      "outputs": [
        {
          "output_type": "error",
          "ename": "AttributeError",
          "evalue": "ignored",
          "traceback": [
            "\u001b[0;31m---------------------------------------------------------------------------\u001b[0m",
            "\u001b[0;31mAttributeError\u001b[0m                            Traceback (most recent call last)",
            "\u001b[0;32m<ipython-input-103-470796527b8f>\u001b[0m in \u001b[0;36m<module>\u001b[0;34m()\u001b[0m\n\u001b[1;32m      1\u001b[0m \u001b[0mconta_do_gui\u001b[0m \u001b[0;34m=\u001b[0m \u001b[0;34m(\u001b[0m\u001b[0;36m15\u001b[0m\u001b[0;34m,\u001b[0m \u001b[0;36m1000\u001b[0m\u001b[0;34m)\u001b[0m\u001b[0;34m\u001b[0m\u001b[0;34m\u001b[0m\u001b[0m\n\u001b[0;32m----> 2\u001b[0;31m \u001b[0mconta_do_gui\u001b[0m\u001b[0;34m.\u001b[0m\u001b[0mdeposita\u001b[0m\u001b[0;34m(\u001b[0m\u001b[0;34m)\u001b[0m \u001b[0;31m# variação oo\u001b[0m\u001b[0;34m\u001b[0m\u001b[0;34m\u001b[0m\u001b[0m\n\u001b[0m\u001b[1;32m      3\u001b[0m \u001b[0;34m\u001b[0m\u001b[0m\n\u001b[1;32m      4\u001b[0m \u001b[0mconta_do_gui\u001b[0m\u001b[0;34m[\u001b[0m\u001b[0;36m1\u001b[0m\u001b[0;34m]\u001b[0m\u001b[0;34m\u001b[0m\u001b[0;34m\u001b[0m\u001b[0m\n",
            "\u001b[0;31mAttributeError\u001b[0m: 'tuple' object has no attribute 'deposita'"
          ]
        }
      ]
    },
    {
      "cell_type": "code",
      "metadata": {
        "id": "Br0_otSj9q2y"
      },
      "source": [
        "def deposita(conta): # variação \"funcional\"(separando o comporto dos dados)\r\n",
        "  novo_saldo = conta[1] + 100\r\n",
        "  codigo = conta[0]\r\n",
        "  return (codigo, novo_saldo)\r\n"
      ],
      "execution_count": 104,
      "outputs": []
    },
    {
      "cell_type": "code",
      "metadata": {
        "colab": {
          "base_uri": "https://localhost:8080/"
        },
        "id": "HDYrm9v7DIKH",
        "outputId": "6a54fe0f-202d-40c8-c7f0-fc05327b8201"
      },
      "source": [
        "deposita(conta_do_gui)"
      ],
      "execution_count": 105,
      "outputs": [
        {
          "output_type": "execute_result",
          "data": {
            "text/plain": [
              "(15, 1100)"
            ]
          },
          "metadata": {
            "tags": []
          },
          "execution_count": 105
        }
      ]
    },
    {
      "cell_type": "code",
      "metadata": {
        "colab": {
          "base_uri": "https://localhost:8080/"
        },
        "id": "VNEygGHsEo89",
        "outputId": "d459f604-d020-4db5-d833-10ff0c47108e"
      },
      "source": [
        "conta_do_gui"
      ],
      "execution_count": 106,
      "outputs": [
        {
          "output_type": "execute_result",
          "data": {
            "text/plain": [
              "(15, 1000)"
            ]
          },
          "metadata": {
            "tags": []
          },
          "execution_count": 106
        }
      ]
    },
    {
      "cell_type": "code",
      "metadata": {
        "id": "YHoMRqwxF7_7"
      },
      "source": [
        "conta_do_gui = deposita(conta_do_gui)"
      ],
      "execution_count": 107,
      "outputs": []
    },
    {
      "cell_type": "code",
      "metadata": {
        "colab": {
          "base_uri": "https://localhost:8080/"
        },
        "id": "lZSo_uhNFut4",
        "outputId": "2cf45818-980b-4902-9eb1-4e2e919f51ca"
      },
      "source": [
        "conta_do_gui"
      ],
      "execution_count": 108,
      "outputs": [
        {
          "output_type": "execute_result",
          "data": {
            "text/plain": [
              "(15, 1100)"
            ]
          },
          "metadata": {
            "tags": []
          },
          "execution_count": 108
        }
      ]
    },
    {
      "cell_type": "code",
      "metadata": {
        "colab": {
          "base_uri": "https://localhost:8080/"
        },
        "id": "wKgrvrISISlP",
        "outputId": "7fcb41aa-cff3-430a-d383-8e98ff5d808a"
      },
      "source": [
        "usuarios = [guilherme, daniela]\r\n",
        "usuarios"
      ],
      "execution_count": 109,
      "outputs": [
        {
          "output_type": "execute_result",
          "data": {
            "text/plain": [
              "[('Guilherme', 37, 1981), ('Daniela', 31, 1987)]"
            ]
          },
          "metadata": {
            "tags": []
          },
          "execution_count": 109
        }
      ]
    },
    {
      "cell_type": "code",
      "metadata": {
        "id": "b6HHpgK2J955"
      },
      "source": [
        "usuarios.append(('Paulo', 39, 1979))"
      ],
      "execution_count": 110,
      "outputs": []
    },
    {
      "cell_type": "code",
      "metadata": {
        "colab": {
          "base_uri": "https://localhost:8080/"
        },
        "id": "a8AoqMy2KONf",
        "outputId": "733cb7a3-319e-44c0-c878-fe24085ef17b"
      },
      "source": [
        "usuarios"
      ],
      "execution_count": 111,
      "outputs": [
        {
          "output_type": "execute_result",
          "data": {
            "text/plain": [
              "[('Guilherme', 37, 1981), ('Daniela', 31, 1987), ('Paulo', 39, 1979)]"
            ]
          },
          "metadata": {
            "tags": []
          },
          "execution_count": 111
        }
      ]
    },
    {
      "cell_type": "code",
      "metadata": {
        "colab": {
          "base_uri": "https://localhost:8080/",
          "height": 165
        },
        "id": "cft_S3RiKRV4",
        "outputId": "e5e09f86-72b6-44c0-f092-d5f4ecfc92fe"
      },
      "source": [
        "usuarios[0][0] = 'Guilherme Silveira'"
      ],
      "execution_count": 113,
      "outputs": [
        {
          "output_type": "error",
          "ename": "TypeError",
          "evalue": "ignored",
          "traceback": [
            "\u001b[0;31m---------------------------------------------------------------------------\u001b[0m",
            "\u001b[0;31mTypeError\u001b[0m                                 Traceback (most recent call last)",
            "\u001b[0;32m<ipython-input-113-dc00118821b7>\u001b[0m in \u001b[0;36m<module>\u001b[0;34m()\u001b[0m\n\u001b[0;32m----> 1\u001b[0;31m \u001b[0musuarios\u001b[0m\u001b[0;34m[\u001b[0m\u001b[0;36m0\u001b[0m\u001b[0;34m]\u001b[0m\u001b[0;34m[\u001b[0m\u001b[0;36m0\u001b[0m\u001b[0;34m]\u001b[0m \u001b[0;34m=\u001b[0m \u001b[0;34m'Guilherme Silveira'\u001b[0m\u001b[0;34m\u001b[0m\u001b[0;34m\u001b[0m\u001b[0m\n\u001b[0m",
            "\u001b[0;31mTypeError\u001b[0m: 'tuple' object does not support item assignment"
          ]
        }
      ]
    },
    {
      "cell_type": "code",
      "metadata": {
        "id": "YRI2THQmLOsi"
      },
      "source": [
        "conta_do_gui = ContaCorrente(15)\r\n",
        "conta_do_gui.deposita(500)\r\n",
        "conta_da_dani = ContaCorrente(234876)\r\n",
        "conta_da_dani.deposita(1000)\r\n",
        "\r\n",
        "contas = (conta_do_gui, conta_da_dani)"
      ],
      "execution_count": 114,
      "outputs": []
    },
    {
      "cell_type": "code",
      "metadata": {
        "colab": {
          "base_uri": "https://localhost:8080/"
        },
        "id": "AAVX92tbLszA",
        "outputId": "b1632ecf-018f-4137-b616-3f43bf2b7d56"
      },
      "source": [
        "for conta in contas:\r\n",
        "  print(conta)"
      ],
      "execution_count": 115,
      "outputs": [
        {
          "output_type": "stream",
          "text": [
            "[>>Codigo 15 Saldo 500<<]\n",
            "[>>Codigo 234876 Saldo 1000<<]\n"
          ],
          "name": "stdout"
        }
      ]
    },
    {
      "cell_type": "code",
      "metadata": {
        "colab": {
          "base_uri": "https://localhost:8080/",
          "height": 165
        },
        "id": "rb4xyvnLL0O_",
        "outputId": "196e43ed-8c27-41c4-f49e-a0de6b2e0105"
      },
      "source": [
        "contas.append(322222)"
      ],
      "execution_count": 116,
      "outputs": [
        {
          "output_type": "error",
          "ename": "AttributeError",
          "evalue": "ignored",
          "traceback": [
            "\u001b[0;31m---------------------------------------------------------------------------\u001b[0m",
            "\u001b[0;31mAttributeError\u001b[0m                            Traceback (most recent call last)",
            "\u001b[0;32m<ipython-input-116-4ad0c355054b>\u001b[0m in \u001b[0;36m<module>\u001b[0;34m()\u001b[0m\n\u001b[0;32m----> 1\u001b[0;31m \u001b[0mcontas\u001b[0m\u001b[0;34m.\u001b[0m\u001b[0mappend\u001b[0m\u001b[0;34m(\u001b[0m\u001b[0;36m322222\u001b[0m\u001b[0;34m)\u001b[0m\u001b[0;34m\u001b[0m\u001b[0;34m\u001b[0m\u001b[0m\n\u001b[0m",
            "\u001b[0;31mAttributeError\u001b[0m: 'tuple' object has no attribute 'append'"
          ]
        }
      ]
    },
    {
      "cell_type": "code",
      "metadata": {
        "id": "_giKdtABL9RW"
      },
      "source": [
        "contas[0].deposita(300)"
      ],
      "execution_count": 117,
      "outputs": []
    },
    {
      "cell_type": "code",
      "metadata": {
        "colab": {
          "base_uri": "https://localhost:8080/"
        },
        "id": "Xegp3f_TMGHx",
        "outputId": "6f9e6728-b8eb-4bd0-bd7b-cf668c9a0502"
      },
      "source": [
        "for conta in contas:\r\n",
        "  print(conta)"
      ],
      "execution_count": 118,
      "outputs": [
        {
          "output_type": "stream",
          "text": [
            "[>>Codigo 15 Saldo 800<<]\n",
            "[>>Codigo 234876 Saldo 1000<<]\n"
          ],
          "name": "stdout"
        }
      ]
    },
    {
      "cell_type": "code",
      "metadata": {
        "id": "1XrfeV9kMPmC"
      },
      "source": [
        ""
      ],
      "execution_count": null,
      "outputs": []
    },
    {
      "cell_type": "markdown",
      "metadata": {
        "id": "T95DHVKlQPkP"
      },
      "source": [
        "Herança e polimorfismo"
      ]
    },
    {
      "cell_type": "code",
      "metadata": {
        "id": "bEevZUHgQUww"
      },
      "source": [
        ""
      ],
      "execution_count": null,
      "outputs": []
    },
    {
      "cell_type": "code",
      "metadata": {
        "id": "-72Jg3EBQrFx"
      },
      "source": [
        "class Conta:\r\n",
        "  def __init__(self, codigo):\r\n",
        "    self._codigo = codigo\r\n",
        "    self._saldo = 0\r\n",
        "\r\n",
        "  def deposita(self, valor):\r\n",
        "    self._saldo += valor\r\n",
        "\r\n",
        "  def __str__(self):\r\n",
        "    return \"[>>Codigo {} Saldo {}<<]\".format(self._codigo, self._saldo)\r\n",
        "\r\n"
      ],
      "execution_count": 123,
      "outputs": []
    },
    {
      "cell_type": "code",
      "metadata": {
        "colab": {
          "base_uri": "https://localhost:8080/"
        },
        "id": "OqiT13aPQ4ZE",
        "outputId": "ec2fd9e3-2818-4c67-84f9-24f5015a30e7"
      },
      "source": [
        "print(Conta(88))"
      ],
      "execution_count": 124,
      "outputs": [
        {
          "output_type": "stream",
          "text": [
            "[>>Codigo 88 Saldo 0<<]\n"
          ],
          "name": "stdout"
        }
      ]
    },
    {
      "cell_type": "code",
      "metadata": {
        "id": "_nYrJtrVREHp"
      },
      "source": [
        "class ContaCorrente(Conta):\r\n",
        "\r\n",
        "  def passa_o_mes(self):\r\n",
        "    self._saldo -=2\r\n",
        "\r\n",
        "class ContaPoupanca(Conta):\r\n",
        "\r\n",
        "  def passa_o_mes(self):\r\n",
        "    self._saldo *= 1.01\r\n",
        "    self._saldo -= 3"
      ],
      "execution_count": 125,
      "outputs": []
    },
    {
      "cell_type": "code",
      "metadata": {
        "colab": {
          "base_uri": "https://localhost:8080/"
        },
        "id": "FWcqKsphSGiz",
        "outputId": "a1635e7c-83ba-4892-e04e-25d9e86d3c73"
      },
      "source": [
        "conta16 = ContaCorrente(16)\r\n",
        "conta16.deposita(1000)\r\n",
        "conta16.passa_o_mes()\r\n",
        "print(conta16)"
      ],
      "execution_count": 127,
      "outputs": [
        {
          "output_type": "stream",
          "text": [
            "[>>Codigo 16 Saldo 998<<]\n"
          ],
          "name": "stdout"
        }
      ]
    },
    {
      "cell_type": "code",
      "metadata": {
        "id": "_z_PRQMMS6qu"
      },
      "source": [
        ""
      ],
      "execution_count": null,
      "outputs": []
    },
    {
      "cell_type": "code",
      "metadata": {
        "id": "0r3GYSPpTAim"
      },
      "source": [
        "\r\n"
      ],
      "execution_count": null,
      "outputs": []
    },
    {
      "cell_type": "code",
      "metadata": {
        "colab": {
          "base_uri": "https://localhost:8080/"
        },
        "id": "WaSU5L0iTGNg",
        "outputId": "04e4af05-0e7f-4bc9-d0c0-029cd725fd76"
      },
      "source": [
        "conta17 = ContaPoupanca(17)\r\n",
        "conta17.deposita(1000)\r\n",
        "conta17.passa_o_mes()\r\n",
        "print(conta17)"
      ],
      "execution_count": 128,
      "outputs": [
        {
          "output_type": "stream",
          "text": [
            "[>>Codigo 17 Saldo 1007.0<<]\n"
          ],
          "name": "stdout"
        }
      ]
    },
    {
      "cell_type": "code",
      "metadata": {
        "colab": {
          "base_uri": "https://localhost:8080/"
        },
        "id": "lZ-CmHMETRSY",
        "outputId": "1f8b667c-928f-49d0-a9f4-f5ff1f6ef577"
      },
      "source": [
        "conta16 = ContaCorrente(16)\r\n",
        "conta16.deposita(1000)\r\n",
        "conta17 = ContaPoupanca(17)\r\n",
        "conta17.deposita(1000)\r\n",
        "contas = (conta16, conta17)\r\n",
        "\r\n",
        "for conta in contas:\r\n",
        "  conta.passa_o_mes() #duck typing\r\n",
        "  print(conta)"
      ],
      "execution_count": 130,
      "outputs": [
        {
          "output_type": "stream",
          "text": [
            "[>>Codigo 16 Saldo 998<<]\n",
            "[>>Codigo 17 Saldo 1007.0<<]\n"
          ],
          "name": "stdout"
        }
      ]
    },
    {
      "cell_type": "code",
      "metadata": {
        "id": "A0ShIMS2UNnD"
      },
      "source": [
        ""
      ],
      "execution_count": null,
      "outputs": []
    },
    {
      "cell_type": "markdown",
      "metadata": {
        "id": "gHZXm0qLUwFR"
      },
      "source": [
        "# **evitaremos usar array puro, se precisarmos de trabalho numérico é costume usar o numpy**"
      ]
    },
    {
      "cell_type": "code",
      "metadata": {
        "id": "eWuy6XdMa5sR"
      },
      "source": [
        ""
      ],
      "execution_count": null,
      "outputs": []
    },
    {
      "cell_type": "code",
      "metadata": {
        "colab": {
          "base_uri": "https://localhost:8080/"
        },
        "id": "ths67WN5U0ca",
        "outputId": "e928a952-6fed-4026-c3be-beb154a28f7a"
      },
      "source": [
        "import array as arr\r\n",
        "\r\n",
        "arr.array('d', [1, 3.5])"
      ],
      "execution_count": 131,
      "outputs": [
        {
          "output_type": "execute_result",
          "data": {
            "text/plain": [
              "array('d', [1.0, 3.5])"
            ]
          },
          "metadata": {
            "tags": []
          },
          "execution_count": 131
        }
      ]
    },
    {
      "cell_type": "code",
      "metadata": {
        "colab": {
          "base_uri": "https://localhost:8080/",
          "height": 165
        },
        "id": "_rwMfvxRVXMZ",
        "outputId": "b257e0f3-02bc-4984-a171-bfa7545d0a5f"
      },
      "source": [
        "arr.array('d', [1, 3.5, 'Guilherme'])"
      ],
      "execution_count": 132,
      "outputs": [
        {
          "output_type": "error",
          "ename": "TypeError",
          "evalue": "ignored",
          "traceback": [
            "\u001b[0;31m---------------------------------------------------------------------------\u001b[0m",
            "\u001b[0;31mTypeError\u001b[0m                                 Traceback (most recent call last)",
            "\u001b[0;32m<ipython-input-132-b1a4380a9c4e>\u001b[0m in \u001b[0;36m<module>\u001b[0;34m()\u001b[0m\n\u001b[0;32m----> 1\u001b[0;31m \u001b[0marr\u001b[0m\u001b[0;34m.\u001b[0m\u001b[0marray\u001b[0m\u001b[0;34m(\u001b[0m\u001b[0;34m'd'\u001b[0m\u001b[0;34m,\u001b[0m \u001b[0;34m[\u001b[0m\u001b[0;36m1\u001b[0m\u001b[0;34m,\u001b[0m \u001b[0;36m3.5\u001b[0m\u001b[0;34m,\u001b[0m \u001b[0;34m'Guilherme'\u001b[0m\u001b[0;34m]\u001b[0m\u001b[0;34m)\u001b[0m\u001b[0;34m\u001b[0m\u001b[0;34m\u001b[0m\u001b[0m\n\u001b[0m",
            "\u001b[0;31mTypeError\u001b[0m: must be real number, not str"
          ]
        }
      ]
    },
    {
      "cell_type": "code",
      "metadata": {
        "colab": {
          "base_uri": "https://localhost:8080/"
        },
        "id": "F1tSCaPAVjOJ",
        "outputId": "5c2c8a7f-079e-4743-a556-4229dabd094c"
      },
      "source": [
        "!pip install numpy\r\n"
      ],
      "execution_count": 133,
      "outputs": [
        {
          "output_type": "stream",
          "text": [
            "Requirement already satisfied: numpy in /usr/local/lib/python3.7/dist-packages (1.19.5)\n"
          ],
          "name": "stdout"
        }
      ]
    },
    {
      "cell_type": "code",
      "metadata": {
        "colab": {
          "base_uri": "https://localhost:8080/"
        },
        "id": "6apbqNOhX5r1",
        "outputId": "45a358fe-7420-499e-d654-28c1551e90ed"
      },
      "source": [
        "import numpy as np\r\n",
        "\r\n",
        "numeros = np.array([1, 3.5])\r\n",
        "numeros"
      ],
      "execution_count": 134,
      "outputs": [
        {
          "output_type": "execute_result",
          "data": {
            "text/plain": [
              "array([1. , 3.5])"
            ]
          },
          "metadata": {
            "tags": []
          },
          "execution_count": 134
        }
      ]
    },
    {
      "cell_type": "code",
      "metadata": {
        "colab": {
          "base_uri": "https://localhost:8080/"
        },
        "id": "axtrO6-KZYRJ",
        "outputId": "ad4a03e1-1bf0-46f9-a283-fcc1a7a3a47f"
      },
      "source": [
        "numeros + 3"
      ],
      "execution_count": 135,
      "outputs": [
        {
          "output_type": "execute_result",
          "data": {
            "text/plain": [
              "array([4. , 6.5])"
            ]
          },
          "metadata": {
            "tags": []
          },
          "execution_count": 135
        }
      ]
    },
    {
      "cell_type": "code",
      "metadata": {
        "id": "1A5YPO0MZbqC"
      },
      "source": [
        ""
      ],
      "execution_count": null,
      "outputs": []
    }
  ]
}